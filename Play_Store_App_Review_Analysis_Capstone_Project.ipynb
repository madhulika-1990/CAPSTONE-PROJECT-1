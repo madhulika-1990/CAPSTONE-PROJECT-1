{
  "nbformat": 4,
  "nbformat_minor": 0,
  "metadata": {
    "kernelspec": {
      "display_name": "Python 3",
      "language": "python",
      "name": "python3"
    },
    "language_info": {
      "codemirror_mode": {
        "name": "ipython",
        "version": 3
      },
      "file_extension": ".py",
      "mimetype": "text/x-python",
      "name": "python",
      "nbconvert_exporter": "python",
      "pygments_lexer": "ipython3",
      "version": "3.6.6"
    },
    "colab": {
      "provenance": [],
      "collapsed_sections": [],
      "include_colab_link": true
    }
  },
  "cells": [
    {
      "cell_type": "markdown",
      "metadata": {
        "id": "view-in-github",
        "colab_type": "text"
      },
      "source": [
        "<a href=\"https://colab.research.google.com/github/madhulika-1990/CAPSTONE-PROJECT-1/blob/main/Play_Store_App_Review_Analysis_Capstone_Project.ipynb\" target=\"_parent\"><img src=\"https://colab.research.google.com/assets/colab-badge.svg\" alt=\"Open In Colab\"/></a>"
      ]
    },
    {
      "cell_type": "markdown",
      "metadata": {
        "id": "Y06xIdG26kRF"
      },
      "source": [
        "## <b> The Play Store apps data has enormous potential to drive app-making businesses to success. Actionable insights can be drawn for developers to work on and capture the Android market. </b>\n",
        "\n",
        "## <b> Each app (row) has values for catergory, rating, size, and more. Another dataset contains customer reviews of the android apps.</b>\n",
        "\n",
        "## <b> Explore and analyze the data to discover key factors responsible for app engagement and success. </b>"
      ]
    },
    {
      "cell_type": "markdown",
      "source": [
        "**Objective**:-\n",
        "\n",
        "This EDA project is to analyze playstore app data that lead to a successfull applications on the Google Play Store. \n",
        "\n",
        "**Dataset columns available in Dataset**:-\n",
        "\n",
        "*   App: Application name \n",
        "*   Category: Category the app belongs to\n",
        "*   Rating: Overall user rating of the app\n",
        "*   Reviews: Number of user reviews for the app \n",
        "*   Size: Size of the app\n",
        "*   Installs: Number of user downloads/installs for the app\n",
        "*   Type: Paid or Free\n",
        "*   Price: Price of the app \n",
        "*   Content: Installed by age group\n",
        "*   Genres: An app can belong to multiple genres\n",
        "*   Last Updated: Date when the app was last updated on Play Store\n",
        "*   Current Ver: Current version of the app available on Play Store\n",
        "*   Android version: Supported Android version\n",
        "\n",
        "**User Review Dataset column description:-**\n",
        "\n",
        "• App: Application name\n",
        "\n",
        "• Translate Reviews: Reviews given by the user\n",
        "\n",
        "• Sentiment: Positive, Negative, or Neutral\n",
        "\n",
        "• Sentiment Polarity: Tell us about the polarity of the sentiment of the translated reviews that we received.\n",
        "\n",
        "• Sentiment Subjectivity: Tell us about the subjectivity of the various reviews according to the translated review."
      ],
      "metadata": {
        "id": "aEOJDxQUcQU0"
      }
    },
    {
      "cell_type": "code",
      "source": [
        "# importing data analysis and visualization libraries\n",
        "import pandas as pd\n",
        "import numpy as np\n",
        "import matplotlib.pyplot as plt\n",
        "import seaborn as sns\n",
        "import warnings\n",
        "from datetime import datetime\n",
        "import plotly \n",
        "plotly.offline.init_notebook_mode(connected=True)\n",
        "import plotly.graph_objs as go "
      ],
      "metadata": {
        "colab": {
          "base_uri": "https://localhost:8080/",
          "height": 17
        },
        "id": "c0kYx2ZlmChk",
        "outputId": "7ac8f4ee-cbd5-4d41-9011-cbaa8633ccda"
      },
      "execution_count": null,
      "outputs": [
        {
          "output_type": "display_data",
          "data": {
            "text/html": [
              "        <script type=\"text/javascript\">\n",
              "        window.PlotlyConfig = {MathJaxConfig: 'local'};\n",
              "        if (window.MathJax) {MathJax.Hub.Config({SVG: {font: \"STIX-Web\"}});}\n",
              "        if (typeof require !== 'undefined') {\n",
              "        require.undef(\"plotly\");\n",
              "        requirejs.config({\n",
              "            paths: {\n",
              "                'plotly': ['https://cdn.plot.ly/plotly-2.8.3.min']\n",
              "            }\n",
              "        });\n",
              "        require(['plotly'], function(Plotly) {\n",
              "            window._Plotly = Plotly;\n",
              "        });\n",
              "        }\n",
              "        </script>\n",
              "        "
            ]
          },
          "metadata": {}
        }
      ]
    },
    {
      "cell_type": "code",
      "source": [
        "from google.colab import drive\n",
        "drive.mount('/content/drive')"
      ],
      "metadata": {
        "colab": {
          "base_uri": "https://localhost:8080/"
        },
        "id": "ub3VGP3RV_nm",
        "outputId": "ccd0b2ae-e77a-4805-d515-11fa5b8e2ede"
      },
      "execution_count": null,
      "outputs": [
        {
          "output_type": "stream",
          "name": "stdout",
          "text": [
            "Mounted at /content/drive\n"
          ]
        }
      ]
    },
    {
      "cell_type": "code",
      "source": [
        "review ='/content/drive/MyDrive/Almabetter Playstore App Review/User Reviews.csv'\n",
        "data ='/content/drive/MyDrive/Almabetter Playstore App Review/Play Store Data.csv'\n"
      ],
      "metadata": {
        "id": "usxpxkIgZ_nv"
      },
      "execution_count": null,
      "outputs": []
    },
    {
      "cell_type": "code",
      "source": [
        "# importing the pathway for the Playstore Data\n",
        "df_data=pd.read_csv(data)\n"
      ],
      "metadata": {
        "id": "dRpdrxkobdlz"
      },
      "execution_count": 98,
      "outputs": []
    },
    {
      "cell_type": "code",
      "source": [
        "#importing the pathway for the User reviews data\n",
        "df_review= pd.read_csv(review)\n"
      ],
      "metadata": {
        "id": "itsV-T1Jb7sI"
      },
      "execution_count": 99,
      "outputs": []
    }
  ]
}